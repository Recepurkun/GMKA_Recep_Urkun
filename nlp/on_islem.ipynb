{
 "cells": [
  {
   "cell_type": "markdown",
   "id": "91da9600-4716-4c35-8fe0-b48a0343a8e3",
   "metadata": {},
   "source": [
    "# ÖN İŞLEM"
   ]
  },
  {
   "cell_type": "code",
   "execution_count": 10,
   "id": "55c0ad60-15fd-41f5-b626-533ee761544c",
   "metadata": {},
   "outputs": [],
   "source": [
    "#txt dosyaların okunması\n",
    "text=open(\"data/nlp.txt\",\"r\",encoding=\"UTF-8\")\n",
    "nlp = text.read()"
   ]
  },
  {
   "cell_type": "code",
   "execution_count": 11,
   "id": "e4b449e5-be99-4571-a934-a0e988aac0ce",
   "metadata": {},
   "outputs": [
    {
     "data": {
      "text/plain": [
       "'\\ndoğal dil işleme\\n'"
      ]
     },
     "execution_count": 11,
     "metadata": {},
     "output_type": "execute_result"
    }
   ],
   "source": [
    "\"\"\"\n",
    "doğal dil işleme\n",
    "\"\"\""
   ]
  },
  {
   "cell_type": "code",
   "execution_count": 12,
   "id": "eb4488cf-cbe8-4a7f-98da-00b9762e05f7",
   "metadata": {},
   "outputs": [
    {
     "data": {
      "text/plain": [
       "'NLP yani Doğal Dil İşleme, doğal dillerin kurallı yapısının çözümlenerek anlaşılması veya yeniden üretilmesi amacını taşır.Bu çözümlemenin insana getireceği kolaylıklar, yazılı dokümanların otomatik çevrilmesi, soru-cevap makineleri, otomatik konuşma ve komut anlama, konuşma sentezi, konuşma üretme, otomatik metin özetleme, bilgi sağlama gibi birçok başlıkla özetlenebilir. Bilgisayar teknolojisinin yaygın kullanımı, bu başlıklardan üretilen uzman yazılımların gündelik hayatımızın her alanına girmesini sağlamıştır. Örneğin, tüm kelime işlem yazılımları birer imlâ düzeltme aracı taşır. Bu araçlar aslında yazılan metni çözümleyerek dil kurallarını denetleyen doğal dil işleme yazılımlarıdır.'"
      ]
     },
     "execution_count": 12,
     "metadata": {},
     "output_type": "execute_result"
    }
   ],
   "source": [
    "nlp"
   ]
  },
  {
   "cell_type": "code",
   "execution_count": 13,
   "id": "5ae1e737-47e0-4a89-ae36-6a96602d9762",
   "metadata": {},
   "outputs": [],
   "source": [
    "import pandas as pd"
   ]
  },
  {
   "cell_type": "code",
   "execution_count": 20,
   "id": "37b976e5-7f00-4033-872e-213a94865b3e",
   "metadata": {},
   "outputs": [],
   "source": [
    "df = pd.read_csv(\"data/nlp.csv\", index_col=0)"
   ]
  },
  {
   "cell_type": "code",
   "execution_count": 21,
   "id": "da27a846-1a8a-4975-8e11-5370b874f4c9",
   "metadata": {},
   "outputs": [
    {
     "data": {
      "text/html": [
       "<div>\n",
       "<style scoped>\n",
       "    .dataframe tbody tr th:only-of-type {\n",
       "        vertical-align: middle;\n",
       "    }\n",
       "\n",
       "    .dataframe tbody tr th {\n",
       "        vertical-align: top;\n",
       "    }\n",
       "\n",
       "    .dataframe thead th {\n",
       "        text-align: right;\n",
       "    }\n",
       "</style>\n",
       "<table border=\"1\" class=\"dataframe\">\n",
       "  <thead>\n",
       "    <tr style=\"text-align: right;\">\n",
       "      <th></th>\n",
       "      <th>Text</th>\n",
       "    </tr>\n",
       "  </thead>\n",
       "  <tbody>\n",
       "    <tr>\n",
       "      <th>0</th>\n",
       "      <td>Yapay Zeka Nedir, Ne İşe Yarar?\\n\\nYapay zeka ...</td>\n",
       "    </tr>\n",
       "    <tr>\n",
       "      <th>1</th>\n",
       "      <td>🔎 Verilerinizi analiz edin: \\nChatGPT'yi kulla...</td>\n",
       "    </tr>\n",
       "    <tr>\n",
       "      <th>2</th>\n",
       "      <td>Öncelikle yapay zekanın ne olduğunu, #dijitala...</td>\n",
       "    </tr>\n",
       "    <tr>\n",
       "      <th>3</th>\n",
       "      <td>9. Baidu Research: Çin'in önde gelen arama mot...</td>\n",
       "    </tr>\n",
       "    <tr>\n",
       "      <th>4</th>\n",
       "      <td>4. Microsoft AI: Microsoft'un yapay zeka tekno...</td>\n",
       "    </tr>\n",
       "    <tr>\n",
       "      <th>...</th>\n",
       "      <td>...</td>\n",
       "    </tr>\n",
       "    <tr>\n",
       "      <th>853</th>\n",
       "      <td>doğal dil işleme alanında yüksek lisans-doktor...</td>\n",
       "    </tr>\n",
       "    <tr>\n",
       "      <th>854</th>\n",
       "      <td>dogal dil isleme şeyleri</td>\n",
       "    </tr>\n",
       "    <tr>\n",
       "      <th>855</th>\n",
       "      <td>Bir veri madenciliği ve doğal dil işleme uygul...</td>\n",
       "    </tr>\n",
       "    <tr>\n",
       "      <th>856</th>\n",
       "      <td>\"Doğal dil işleme\" ile ilgili deneyimi olan ya...</td>\n",
       "    </tr>\n",
       "    <tr>\n",
       "      <th>857</th>\n",
       "      <td>Haftaya öğrencilik hayatıma kaldığım yerden de...</td>\n",
       "    </tr>\n",
       "  </tbody>\n",
       "</table>\n",
       "<p>858 rows × 1 columns</p>\n",
       "</div>"
      ],
      "text/plain": [
       "                                                  Text\n",
       "0    Yapay Zeka Nedir, Ne İşe Yarar?\\n\\nYapay zeka ...\n",
       "1    🔎 Verilerinizi analiz edin: \\nChatGPT'yi kulla...\n",
       "2    Öncelikle yapay zekanın ne olduğunu, #dijitala...\n",
       "3    9. Baidu Research: Çin'in önde gelen arama mot...\n",
       "4    4. Microsoft AI: Microsoft'un yapay zeka tekno...\n",
       "..                                                 ...\n",
       "853  doğal dil işleme alanında yüksek lisans-doktor...\n",
       "854                           dogal dil isleme şeyleri\n",
       "855  Bir veri madenciliği ve doğal dil işleme uygul...\n",
       "856  \"Doğal dil işleme\" ile ilgili deneyimi olan ya...\n",
       "857  Haftaya öğrencilik hayatıma kaldığım yerden de...\n",
       "\n",
       "[858 rows x 1 columns]"
      ]
     },
     "execution_count": 21,
     "metadata": {},
     "output_type": "execute_result"
    }
   ],
   "source": [
    "df"
   ]
  },
  {
   "cell_type": "code",
   "execution_count": 19,
   "id": "ec6ce667-900e-4e81-b512-09dbdde132e0",
   "metadata": {},
   "outputs": [
    {
     "data": {
      "text/html": [
       "<div>\n",
       "<style scoped>\n",
       "    .dataframe tbody tr th:only-of-type {\n",
       "        vertical-align: middle;\n",
       "    }\n",
       "\n",
       "    .dataframe tbody tr th {\n",
       "        vertical-align: top;\n",
       "    }\n",
       "\n",
       "    .dataframe thead th {\n",
       "        text-align: right;\n",
       "    }\n",
       "</style>\n",
       "<table border=\"1\" class=\"dataframe\">\n",
       "  <thead>\n",
       "    <tr style=\"text-align: right;\">\n",
       "      <th></th>\n",
       "      <th>Text</th>\n",
       "    </tr>\n",
       "  </thead>\n",
       "  <tbody>\n",
       "    <tr>\n",
       "      <th>0</th>\n",
       "      <td>Yapay Zeka Nedir, Ne İşe Yarar?\\n\\nYapay zeka ...</td>\n",
       "    </tr>\n",
       "    <tr>\n",
       "      <th>1</th>\n",
       "      <td>🔎 Verilerinizi analiz edin: \\nChatGPT'yi kulla...</td>\n",
       "    </tr>\n",
       "    <tr>\n",
       "      <th>2</th>\n",
       "      <td>Öncelikle yapay zekanın ne olduğunu, #dijitala...</td>\n",
       "    </tr>\n",
       "    <tr>\n",
       "      <th>3</th>\n",
       "      <td>9. Baidu Research: Çin'in önde gelen arama mot...</td>\n",
       "    </tr>\n",
       "    <tr>\n",
       "      <th>4</th>\n",
       "      <td>4. Microsoft AI: Microsoft'un yapay zeka tekno...</td>\n",
       "    </tr>\n",
       "  </tbody>\n",
       "</table>\n",
       "</div>"
      ],
      "text/plain": [
       "                                                Text\n",
       "0  Yapay Zeka Nedir, Ne İşe Yarar?\\n\\nYapay zeka ...\n",
       "1  🔎 Verilerinizi analiz edin: \\nChatGPT'yi kulla...\n",
       "2  Öncelikle yapay zekanın ne olduğunu, #dijitala...\n",
       "3  9. Baidu Research: Çin'in önde gelen arama mot...\n",
       "4  4. Microsoft AI: Microsoft'un yapay zeka tekno..."
      ]
     },
     "execution_count": 19,
     "metadata": {},
     "output_type": "execute_result"
    }
   ],
   "source": [
    "df.head()"
   ]
  },
  {
   "cell_type": "code",
   "execution_count": 22,
   "id": "8a432a45-1cb6-4716-b379-f395b291eab3",
   "metadata": {},
   "outputs": [
    {
     "data": {
      "text/html": [
       "<div>\n",
       "<style scoped>\n",
       "    .dataframe tbody tr th:only-of-type {\n",
       "        vertical-align: middle;\n",
       "    }\n",
       "\n",
       "    .dataframe tbody tr th {\n",
       "        vertical-align: top;\n",
       "    }\n",
       "\n",
       "    .dataframe thead th {\n",
       "        text-align: right;\n",
       "    }\n",
       "</style>\n",
       "<table border=\"1\" class=\"dataframe\">\n",
       "  <thead>\n",
       "    <tr style=\"text-align: right;\">\n",
       "      <th></th>\n",
       "      <th>Text</th>\n",
       "    </tr>\n",
       "  </thead>\n",
       "  <tbody>\n",
       "    <tr>\n",
       "      <th>853</th>\n",
       "      <td>doğal dil işleme alanında yüksek lisans-doktor...</td>\n",
       "    </tr>\n",
       "    <tr>\n",
       "      <th>854</th>\n",
       "      <td>dogal dil isleme şeyleri</td>\n",
       "    </tr>\n",
       "    <tr>\n",
       "      <th>855</th>\n",
       "      <td>Bir veri madenciliği ve doğal dil işleme uygul...</td>\n",
       "    </tr>\n",
       "    <tr>\n",
       "      <th>856</th>\n",
       "      <td>\"Doğal dil işleme\" ile ilgili deneyimi olan ya...</td>\n",
       "    </tr>\n",
       "    <tr>\n",
       "      <th>857</th>\n",
       "      <td>Haftaya öğrencilik hayatıma kaldığım yerden de...</td>\n",
       "    </tr>\n",
       "  </tbody>\n",
       "</table>\n",
       "</div>"
      ],
      "text/plain": [
       "                                                  Text\n",
       "853  doğal dil işleme alanında yüksek lisans-doktor...\n",
       "854                           dogal dil isleme şeyleri\n",
       "855  Bir veri madenciliği ve doğal dil işleme uygul...\n",
       "856  \"Doğal dil işleme\" ile ilgili deneyimi olan ya...\n",
       "857  Haftaya öğrencilik hayatıma kaldığım yerden de..."
      ]
     },
     "execution_count": 22,
     "metadata": {},
     "output_type": "execute_result"
    }
   ],
   "source": [
    "df.tail()"
   ]
  },
  {
   "cell_type": "code",
   "execution_count": 23,
   "id": "4863a1ff-31d9-43ad-9f26-f3acd82b18a1",
   "metadata": {},
   "outputs": [
    {
     "data": {
      "text/plain": [
       "'\"Yapay zeka dünyası hızla gelişiyor! Son zamanlarda, GPT-3, BERT ve benzeri doğal dil işleme modelleri ile daha da popüler hale geldi. Bu modeller, insanlar tarafından üretilen metinleri analiz ederek, dilin yapısını ve anlamını kavrayabiliyorlar.'"
      ]
     },
     "execution_count": 23,
     "metadata": {},
     "output_type": "execute_result"
    }
   ],
   "source": [
    "df.loc[100,\"Text\"]"
   ]
  },
  {
   "cell_type": "code",
   "execution_count": 24,
   "id": "016efefe-6405-4019-a86c-8ba4977d978f",
   "metadata": {},
   "outputs": [
    {
     "data": {
      "text/plain": [
       "'recep urkun '"
      ]
     },
     "execution_count": 24,
     "metadata": {},
     "output_type": "execute_result"
    }
   ],
   "source": [
    "#sayısal değerlerin kaldırılması\n",
    "def remove_numeric(value):\n",
    "    bfr = [item for item in value if not item.isdigit()]\n",
    "    bfr = \"\".join(bfr)\n",
    "    return bfr\n",
    "\n",
    "text = \"recep urkun 123\"\n",
    "remove_numeric(text)"
   ]
  },
  {
   "cell_type": "code",
   "execution_count": 25,
   "id": "131c16cf-2875-462c-b000-57aa30c5a65a",
   "metadata": {},
   "outputs": [],
   "source": [
    "import re"
   ]
  },
  {
   "cell_type": "code",
   "execution_count": 26,
   "id": "a59aedfc-1f6c-4ef3-a3a2-83969942ecac",
   "metadata": {},
   "outputs": [
    {
     "data": {
      "text/plain": [
       "'recep urkun '"
      ]
     },
     "execution_count": 26,
     "metadata": {},
     "output_type": "execute_result"
    }
   ],
   "source": [
    "#emojileri kaldırmak\n",
    "def remove_emoji(value):\n",
    "    bfr = re.compile(\"[\\U00010000-\\U0010ffff]\",flags=re.UNICODE)\n",
    "    bfr = bfr.sub(r'',value)\n",
    "    return bfr\n",
    "\n",
    "text = \"recep urkun 🔎\"\n",
    "remove_emoji(text)"
   ]
  },
  {
   "cell_type": "code",
   "execution_count": 27,
   "id": "5d71e5b1-319b-444a-9278-46a1f783f932",
   "metadata": {},
   "outputs": [
    {
     "data": {
      "text/plain": [
       "'recep urkun'"
      ]
     },
     "execution_count": 27,
     "metadata": {},
     "output_type": "execute_result"
    }
   ],
   "source": [
    "#tek karakterli ifadelerin kaldırılması\n",
    "def remove_single_character(value):\n",
    "    return re.sub(r'(?:^| )\\w(?:$| )', '', value)\n",
    "\n",
    "text = \"recep urkun r\"\n",
    "remove_single_character(text)"
   ]
  },
  {
   "cell_type": "code",
   "execution_count": 28,
   "id": "d5412035-3caf-4d59-b136-6b975dfae1b0",
   "metadata": {},
   "outputs": [
    {
     "data": {
      "text/plain": [
       "'recep urkun'"
      ]
     },
     "execution_count": 28,
     "metadata": {},
     "output_type": "execute_result"
    }
   ],
   "source": [
    "#noktalama işaretlerinin kaldırılması\n",
    "def remove_noktalama(value):\n",
    "    return re.sub(r'[^\\w\\s]','',value)\n",
    "\n",
    "text = \"recep urkun.\"\n",
    "remove_noktalama(text)"
   ]
  },
  {
   "cell_type": "code",
   "execution_count": 29,
   "id": "1a57c8f8-5d75-4a63-a758-86a5d1f2a0ca",
   "metadata": {},
   "outputs": [
    {
     "data": {
      "text/plain": [
       "'recep '"
      ]
     },
     "execution_count": 29,
     "metadata": {},
     "output_type": "execute_result"
    }
   ],
   "source": [
    "#linklerin kaldırılması\n",
    "def remove_link(value):\n",
    "    return re.sub('((www\\.[^\\s]+)|(https?://[^\\s]+))','',value)\n",
    "\n",
    "text = \"recep https://translate.google.com/?hl=tr&sl=en&tl=tr&text=character&op=translate\"\n",
    "remove_link(text)"
   ]
  },
  {
   "cell_type": "code",
   "execution_count": 30,
   "id": "0f2bbb0e-bee2-4bcc-96af-7b3dff1136fd",
   "metadata": {},
   "outputs": [
    {
     "data": {
      "text/plain": [
       "'recep '"
      ]
     },
     "execution_count": 30,
     "metadata": {},
     "output_type": "execute_result"
    }
   ],
   "source": [
    "#hashtaglerin kaldırılması\n",
    "def remove_hashtag(value):\n",
    "    return re.sub(r'#[^\\s]+','',value)\n",
    "\n",
    "text = \"recep #nlp\"\n",
    "remove_hashtag(text)"
   ]
  },
  {
   "cell_type": "code",
   "execution_count": 31,
   "id": "afb5368c-8036-4263-84c3-49526585e2e2",
   "metadata": {},
   "outputs": [
    {
     "data": {
      "text/plain": [
       "'recep '"
      ]
     },
     "execution_count": 31,
     "metadata": {},
     "output_type": "execute_result"
    }
   ],
   "source": [
    "#kullanıcı adların kaldırılması\n",
    "\n",
    "def remove_username(value):\n",
    "    return re.sub('@[^\\s]+','',value)\n",
    "\n",
    "text = \"recep @recep\"\n",
    "remove_username(text)"
   ]
  },
  {
   "cell_type": "code",
   "execution_count": 32,
   "id": "df6c3a3e-7fe7-4e6d-a87f-1646f4701bf2",
   "metadata": {},
   "outputs": [
    {
     "name": "stdout",
     "output_type": "stream",
     "text": [
      "Requirement already satisfied: snowballstemmer in c:\\users\\recep\\appdata\\local\\programs\\python\\python311\\lib\\site-packages (2.2.0)\n"
     ]
    }
   ],
   "source": [
    "!pip install snowballstemmer"
   ]
  },
  {
   "cell_type": "code",
   "execution_count": 33,
   "id": "e1c5f0f6-4fbe-412f-9cf2-7a951c395c76",
   "metadata": {},
   "outputs": [],
   "source": [
    "import snowballstemmer"
   ]
  },
  {
   "cell_type": "code",
   "execution_count": 34,
   "id": "70cb7563-52cb-4848-b019-2e73217455b0",
   "metadata": {},
   "outputs": [
    {
     "data": {
      "text/plain": [
       "'bugu yorgu'"
      ]
     },
     "execution_count": 34,
     "metadata": {},
     "output_type": "execute_result"
    }
   ],
   "source": [
    "def stem_word(value):\n",
    "    stemmer = snowballstemmer.stemmer(\"turkish\")\n",
    "    value = value.lower()\n",
    "    value = stemmer.stemWords(value.split())\n",
    "    stop_words = [\"acaba\", \"ama\", \"aslında\", \"az\", \"bazı\", \"belki\", \"ben\", \"biri\", \"birkaç\", \"birşey\", \"biz\", \"bu\", \n",
    "        \"çok\",\"çünkü\", \"da\", \"daha\", \"de\", \"defa\", \"diye\", \"eğer\"\n",
    "        \"en\", \"gibi\", \"hem\", \"hep\", \"hepsi\", \"her\", \"hiç\", \"için\", \"ile\", \"ise\", \n",
    "        \"kez\", \"ki\", \"kim\", \"mı\", \"mu\", \"mü\", \"nasıl\", \"ne\", \"neden\",\n",
    "        \"nerde\", \"nerede\", \"nereye\", \"niçin\", \"niye\", \"o\", \"sanki\", \"şey\", \"siz\", \"şu\", \n",
    "        \"tüm\", \"ve\", \"veya\", \"ya\", \"yani\",\n",
    "        \"bir\",\"iki\",\"üç\",\"dört\",\"beş\",\"altı\",\"yedi\",\"sekiz\",\"dokuz\",\"on\"]\n",
    "    value = [item for item in value if not item in stop_words]\n",
    "    value = ' '.join(value)\n",
    "    return value\n",
    "\n",
    "text = \"bugün çok yorgunum\"\n",
    "stem_word(text)"
   ]
  },
  {
   "cell_type": "code",
   "execution_count": 35,
   "id": "22195919-7c69-41dc-b650-16ab2e803976",
   "metadata": {},
   "outputs": [],
   "source": [
    "def pre_processing(value):\n",
    "    return [remove_numeric(remove_emoji\n",
    "                          (remove_single_character\n",
    "                           (remove_noktalama\n",
    "                            (remove_link\n",
    "                             (remove_hashtag\n",
    "                              (remove_username\n",
    "                               (stem_word(word)))))))) for word in value.split()]"
   ]
  },
  {
   "cell_type": "code",
   "execution_count": 36,
   "id": "ff07cbff-bc37-4ae7-b51a-4c73b13be27a",
   "metadata": {},
   "outputs": [],
   "source": [
    "df[\"Text_2\"] = df[\"Text\"].apply(pre_processing)"
   ]
  },
  {
   "cell_type": "code",
   "execution_count": 37,
   "id": "d7d62970-65d1-49c8-a146-f0ca2bbf9ab6",
   "metadata": {},
   "outputs": [
    {
     "data": {
      "text/html": [
       "<div>\n",
       "<style scoped>\n",
       "    .dataframe tbody tr th:only-of-type {\n",
       "        vertical-align: middle;\n",
       "    }\n",
       "\n",
       "    .dataframe tbody tr th {\n",
       "        vertical-align: top;\n",
       "    }\n",
       "\n",
       "    .dataframe thead th {\n",
       "        text-align: right;\n",
       "    }\n",
       "</style>\n",
       "<table border=\"1\" class=\"dataframe\">\n",
       "  <thead>\n",
       "    <tr style=\"text-align: right;\">\n",
       "      <th></th>\n",
       "      <th>Text</th>\n",
       "      <th>Text_2</th>\n",
       "    </tr>\n",
       "  </thead>\n",
       "  <tbody>\n",
       "    <tr>\n",
       "      <th>0</th>\n",
       "      <td>Yapay Zeka Nedir, Ne İşe Yarar?\\n\\nYapay zeka ...</td>\n",
       "      <td>[yapay, zeka, nedir, , işe, yarar, yapay, zeka...</td>\n",
       "    </tr>\n",
       "    <tr>\n",
       "      <th>1</th>\n",
       "      <td>🔎 Verilerinizi analiz edin: \\nChatGPT'yi kulla...</td>\n",
       "      <td>[, veri, analiz, edin, chatgptyi, kullanarak, ...</td>\n",
       "    </tr>\n",
       "    <tr>\n",
       "      <th>2</th>\n",
       "      <td>Öncelikle yapay zekanın ne olduğunu, #dijitala...</td>\n",
       "      <td>[öncelik, yapay, zeka, , olduğunu, , iç, , öne...</td>\n",
       "    </tr>\n",
       "    <tr>\n",
       "      <th>3</th>\n",
       "      <td>9. Baidu Research: Çin'in önde gelen arama mot...</td>\n",
       "      <td>[, baidu, research, çin, ön, gele, ara, motor,...</td>\n",
       "    </tr>\n",
       "    <tr>\n",
       "      <th>4</th>\n",
       "      <td>4. Microsoft AI: Microsoft'un yapay zeka tekno...</td>\n",
       "      <td>[, microsoft, ai, microsoft, yapay, zeka, tekn...</td>\n",
       "    </tr>\n",
       "  </tbody>\n",
       "</table>\n",
       "</div>"
      ],
      "text/plain": [
       "                                                Text   \n",
       "0  Yapay Zeka Nedir, Ne İşe Yarar?\\n\\nYapay zeka ...  \\\n",
       "1  🔎 Verilerinizi analiz edin: \\nChatGPT'yi kulla...   \n",
       "2  Öncelikle yapay zekanın ne olduğunu, #dijitala...   \n",
       "3  9. Baidu Research: Çin'in önde gelen arama mot...   \n",
       "4  4. Microsoft AI: Microsoft'un yapay zeka tekno...   \n",
       "\n",
       "                                              Text_2  \n",
       "0  [yapay, zeka, nedir, , işe, yarar, yapay, zeka...  \n",
       "1  [, veri, analiz, edin, chatgptyi, kullanarak, ...  \n",
       "2  [öncelik, yapay, zeka, , olduğunu, , iç, , öne...  \n",
       "3  [, baidu, research, çin, ön, gele, ara, motor,...  \n",
       "4  [, microsoft, ai, microsoft, yapay, zeka, tekn...  "
      ]
     },
     "execution_count": 37,
     "metadata": {},
     "output_type": "execute_result"
    }
   ],
   "source": [
    "df.head()"
   ]
  },
  {
   "cell_type": "code",
   "execution_count": 38,
   "id": "4582231b-4d68-462d-95d8-6f1bc90ac18f",
   "metadata": {},
   "outputs": [
    {
     "data": {
      "text/plain": [
       "'Yapay Zeka Nedir, Ne İşe Yarar?\\n\\nYapay zeka (YZ) bilgisayarlar ve diğer cihazların, insan zekasına benzer şekilde düşünmesini, öğrenmesini, kararlar vermesini ve problem çözmesini sağlayan bir bilim dalıdır. Yapay zeka teknolojisi, doğal dil işleme, ses tanıma, görüntü işleme,… https://t.co/nDH7iGOdFe'"
      ]
     },
     "execution_count": 38,
     "metadata": {},
     "output_type": "execute_result"
    }
   ],
   "source": [
    "df.loc[0,\"Text\"]"
   ]
  },
  {
   "cell_type": "code",
   "execution_count": 39,
   "id": "ec38d615-51aa-461c-a4c2-2f62c94deab1",
   "metadata": {},
   "outputs": [
    {
     "data": {
      "text/plain": [
       "['yapay',\n",
       " 'zeka',\n",
       " 'nedir',\n",
       " '',\n",
       " 'işe',\n",
       " 'yarar',\n",
       " 'yapay',\n",
       " 'zeka',\n",
       " 'yz',\n",
       " 'bilgisayar',\n",
       " '',\n",
       " 'diğer',\n",
       " 'cihazların',\n",
       " 'in',\n",
       " 'zeka',\n",
       " 'benzer',\n",
       " 'şekil',\n",
       " 'düşünmesini',\n",
       " 'öğrenmesini',\n",
       " 'karar',\n",
       " 'verme',\n",
       " '',\n",
       " 'proble',\n",
       " 'çözme',\n",
       " 'sağlaya',\n",
       " '',\n",
       " 'bil',\n",
       " 'dalıdır',\n",
       " 'yapay',\n",
       " 'zeka',\n",
       " 'teknolojisi',\n",
       " 'doğal',\n",
       " 'dil',\n",
       " 'işleme',\n",
       " 'ses',\n",
       " 'tanıma',\n",
       " 'gör',\n",
       " 'işleme',\n",
       " '']"
      ]
     },
     "execution_count": 39,
     "metadata": {},
     "output_type": "execute_result"
    }
   ],
   "source": [
    "df.loc[0,\"Text_2\"]"
   ]
  },
  {
   "cell_type": "code",
   "execution_count": 40,
   "id": "b7ba948b-c3db-49d7-a26d-5a5a730401b1",
   "metadata": {},
   "outputs": [],
   "source": [
    "# boşlukların kaldırılması\n",
    "def remove_space(value):\n",
    "    return [item for item in value if item.strip()]\n",
    "\n",
    "df[\"Text_2\"] = df[\"Text_2\"].apply(remove_space)"
   ]
  },
  {
   "cell_type": "code",
   "execution_count": 41,
   "id": "5c6ac059-ab26-4eef-8217-a0f5c276c42c",
   "metadata": {},
   "outputs": [
    {
     "data": {
      "text/plain": [
       "['yapay',\n",
       " 'zeka',\n",
       " 'nedir',\n",
       " 'işe',\n",
       " 'yarar',\n",
       " 'yapay',\n",
       " 'zeka',\n",
       " 'yz',\n",
       " 'bilgisayar',\n",
       " 'diğer',\n",
       " 'cihazların',\n",
       " 'in',\n",
       " 'zeka',\n",
       " 'benzer',\n",
       " 'şekil',\n",
       " 'düşünmesini',\n",
       " 'öğrenmesini',\n",
       " 'karar',\n",
       " 'verme',\n",
       " 'proble',\n",
       " 'çözme',\n",
       " 'sağlaya',\n",
       " 'bil',\n",
       " 'dalıdır',\n",
       " 'yapay',\n",
       " 'zeka',\n",
       " 'teknolojisi',\n",
       " 'doğal',\n",
       " 'dil',\n",
       " 'işleme',\n",
       " 'ses',\n",
       " 'tanıma',\n",
       " 'gör',\n",
       " 'işleme']"
      ]
     },
     "execution_count": 41,
     "metadata": {},
     "output_type": "execute_result"
    }
   ],
   "source": [
    "df.loc[0,\"Text_2\"]"
   ]
  },
  {
   "cell_type": "code",
   "execution_count": 42,
   "id": "b936ac24-f2d4-4980-bd6a-3911948db9d1",
   "metadata": {},
   "outputs": [
    {
     "data": {
      "text/html": [
       "<div>\n",
       "<style scoped>\n",
       "    .dataframe tbody tr th:only-of-type {\n",
       "        vertical-align: middle;\n",
       "    }\n",
       "\n",
       "    .dataframe tbody tr th {\n",
       "        vertical-align: top;\n",
       "    }\n",
       "\n",
       "    .dataframe thead th {\n",
       "        text-align: right;\n",
       "    }\n",
       "</style>\n",
       "<table border=\"1\" class=\"dataframe\">\n",
       "  <thead>\n",
       "    <tr style=\"text-align: right;\">\n",
       "      <th></th>\n",
       "      <th>Text</th>\n",
       "      <th>Text_2</th>\n",
       "    </tr>\n",
       "  </thead>\n",
       "  <tbody>\n",
       "    <tr>\n",
       "      <th>0</th>\n",
       "      <td>Yapay Zeka Nedir, Ne İşe Yarar?\\n\\nYapay zeka ...</td>\n",
       "      <td>[yapay, zeka, nedir, işe, yarar, yapay, zeka, ...</td>\n",
       "    </tr>\n",
       "    <tr>\n",
       "      <th>1</th>\n",
       "      <td>🔎 Verilerinizi analiz edin: \\nChatGPT'yi kulla...</td>\n",
       "      <td>[veri, analiz, edin, chatgptyi, kullanarak, do...</td>\n",
       "    </tr>\n",
       "    <tr>\n",
       "      <th>2</th>\n",
       "      <td>Öncelikle yapay zekanın ne olduğunu, #dijitala...</td>\n",
       "      <td>[öncelik, yapay, zeka, olduğunu, iç, önemli, o...</td>\n",
       "    </tr>\n",
       "    <tr>\n",
       "      <th>3</th>\n",
       "      <td>9. Baidu Research: Çin'in önde gelen arama mot...</td>\n",
       "      <td>[baidu, research, çin, ön, gele, ara, motor, b...</td>\n",
       "    </tr>\n",
       "    <tr>\n",
       "      <th>4</th>\n",
       "      <td>4. Microsoft AI: Microsoft'un yapay zeka tekno...</td>\n",
       "      <td>[microsoft, ai, microsoft, yapay, zeka, teknol...</td>\n",
       "    </tr>\n",
       "  </tbody>\n",
       "</table>\n",
       "</div>"
      ],
      "text/plain": [
       "                                                Text   \n",
       "0  Yapay Zeka Nedir, Ne İşe Yarar?\\n\\nYapay zeka ...  \\\n",
       "1  🔎 Verilerinizi analiz edin: \\nChatGPT'yi kulla...   \n",
       "2  Öncelikle yapay zekanın ne olduğunu, #dijitala...   \n",
       "3  9. Baidu Research: Çin'in önde gelen arama mot...   \n",
       "4  4. Microsoft AI: Microsoft'un yapay zeka tekno...   \n",
       "\n",
       "                                              Text_2  \n",
       "0  [yapay, zeka, nedir, işe, yarar, yapay, zeka, ...  \n",
       "1  [veri, analiz, edin, chatgptyi, kullanarak, do...  \n",
       "2  [öncelik, yapay, zeka, olduğunu, iç, önemli, o...  \n",
       "3  [baidu, research, çin, ön, gele, ara, motor, b...  \n",
       "4  [microsoft, ai, microsoft, yapay, zeka, teknol...  "
      ]
     },
     "execution_count": 42,
     "metadata": {},
     "output_type": "execute_result"
    }
   ],
   "source": [
    "df.head()"
   ]
  },
  {
   "cell_type": "code",
   "execution_count": 43,
   "id": "2d90cc7e-d31d-4c3c-9aab-66b0971f95d3",
   "metadata": {},
   "outputs": [],
   "source": [
    "import on_islem\n",
    "import pandas as pd"
   ]
  },
  {
   "cell_type": "code",
   "execution_count": 44,
   "id": "1b9347ec-6a2a-4c3d-b8b0-dcb6c1775fc7",
   "metadata": {},
   "outputs": [
    {
     "data": {
      "text/html": [
       "<div>\n",
       "<style scoped>\n",
       "    .dataframe tbody tr th:only-of-type {\n",
       "        vertical-align: middle;\n",
       "    }\n",
       "\n",
       "    .dataframe tbody tr th {\n",
       "        vertical-align: top;\n",
       "    }\n",
       "\n",
       "    .dataframe thead th {\n",
       "        text-align: right;\n",
       "    }\n",
       "</style>\n",
       "<table border=\"1\" class=\"dataframe\">\n",
       "  <thead>\n",
       "    <tr style=\"text-align: right;\">\n",
       "      <th></th>\n",
       "      <th>Text</th>\n",
       "    </tr>\n",
       "  </thead>\n",
       "  <tbody>\n",
       "    <tr>\n",
       "      <th>0</th>\n",
       "      <td>Yapay Zeka Nedir, Ne İşe Yarar?\\n\\nYapay zeka ...</td>\n",
       "    </tr>\n",
       "    <tr>\n",
       "      <th>1</th>\n",
       "      <td>🔎 Verilerinizi analiz edin: \\nChatGPT'yi kulla...</td>\n",
       "    </tr>\n",
       "    <tr>\n",
       "      <th>2</th>\n",
       "      <td>Öncelikle yapay zekanın ne olduğunu, #dijitala...</td>\n",
       "    </tr>\n",
       "    <tr>\n",
       "      <th>3</th>\n",
       "      <td>9. Baidu Research: Çin'in önde gelen arama mot...</td>\n",
       "    </tr>\n",
       "    <tr>\n",
       "      <th>4</th>\n",
       "      <td>4. Microsoft AI: Microsoft'un yapay zeka tekno...</td>\n",
       "    </tr>\n",
       "  </tbody>\n",
       "</table>\n",
       "</div>"
      ],
      "text/plain": [
       "                                                Text\n",
       "0  Yapay Zeka Nedir, Ne İşe Yarar?\\n\\nYapay zeka ...\n",
       "1  🔎 Verilerinizi analiz edin: \\nChatGPT'yi kulla...\n",
       "2  Öncelikle yapay zekanın ne olduğunu, #dijitala...\n",
       "3  9. Baidu Research: Çin'in önde gelen arama mot...\n",
       "4  4. Microsoft AI: Microsoft'un yapay zeka tekno..."
      ]
     },
     "execution_count": 44,
     "metadata": {},
     "output_type": "execute_result"
    }
   ],
   "source": [
    "df = pd.read_csv(\"data/nlp.csv\",index_col=0)\n",
    "df.head()"
   ]
  },
  {
   "cell_type": "code",
   "execution_count": 45,
   "id": "9d0e6fa2-81b0-4c03-8469-1a7521302bed",
   "metadata": {},
   "outputs": [
    {
     "data": {
      "text/html": [
       "<div>\n",
       "<style scoped>\n",
       "    .dataframe tbody tr th:only-of-type {\n",
       "        vertical-align: middle;\n",
       "    }\n",
       "\n",
       "    .dataframe tbody tr th {\n",
       "        vertical-align: top;\n",
       "    }\n",
       "\n",
       "    .dataframe thead th {\n",
       "        text-align: right;\n",
       "    }\n",
       "</style>\n",
       "<table border=\"1\" class=\"dataframe\">\n",
       "  <thead>\n",
       "    <tr style=\"text-align: right;\">\n",
       "      <th></th>\n",
       "      <th>Text</th>\n",
       "      <th>Text_2</th>\n",
       "    </tr>\n",
       "  </thead>\n",
       "  <tbody>\n",
       "    <tr>\n",
       "      <th>0</th>\n",
       "      <td>Yapay Zeka Nedir, Ne İşe Yarar?\\n\\nYapay zeka ...</td>\n",
       "      <td>[yapay, zeka, nedir, işe, yarar, yapay, zeka, ...</td>\n",
       "    </tr>\n",
       "    <tr>\n",
       "      <th>1</th>\n",
       "      <td>🔎 Verilerinizi analiz edin: \\nChatGPT'yi kulla...</td>\n",
       "      <td>[veri, analiz, edin, chatgptyi, kullanarak, do...</td>\n",
       "    </tr>\n",
       "    <tr>\n",
       "      <th>2</th>\n",
       "      <td>Öncelikle yapay zekanın ne olduğunu, #dijitala...</td>\n",
       "      <td>[öncelik, yapay, zeka, olduğunu, iç, önemli, o...</td>\n",
       "    </tr>\n",
       "    <tr>\n",
       "      <th>3</th>\n",
       "      <td>9. Baidu Research: Çin'in önde gelen arama mot...</td>\n",
       "      <td>[baidu, research, çin, ön, gele, ara, motor, b...</td>\n",
       "    </tr>\n",
       "    <tr>\n",
       "      <th>4</th>\n",
       "      <td>4. Microsoft AI: Microsoft'un yapay zeka tekno...</td>\n",
       "      <td>[microsoft, ai, microsoft, yapay, zeka, teknol...</td>\n",
       "    </tr>\n",
       "  </tbody>\n",
       "</table>\n",
       "</div>"
      ],
      "text/plain": [
       "                                                Text   \n",
       "0  Yapay Zeka Nedir, Ne İşe Yarar?\\n\\nYapay zeka ...  \\\n",
       "1  🔎 Verilerinizi analiz edin: \\nChatGPT'yi kulla...   \n",
       "2  Öncelikle yapay zekanın ne olduğunu, #dijitala...   \n",
       "3  9. Baidu Research: Çin'in önde gelen arama mot...   \n",
       "4  4. Microsoft AI: Microsoft'un yapay zeka tekno...   \n",
       "\n",
       "                                              Text_2  \n",
       "0  [yapay, zeka, nedir, işe, yarar, yapay, zeka, ...  \n",
       "1  [veri, analiz, edin, chatgptyi, kullanarak, do...  \n",
       "2  [öncelik, yapay, zeka, olduğunu, iç, önemli, o...  \n",
       "3  [baidu, research, çin, ön, gele, ara, motor, b...  \n",
       "4  [microsoft, ai, microsoft, yapay, zeka, teknol...  "
      ]
     },
     "execution_count": 45,
     "metadata": {},
     "output_type": "execute_result"
    }
   ],
   "source": [
    "df[\"Text_2\"] = df[\"Text\"].apply(on_islem.pre_processing)\n",
    "df[\"Text_2\"] = df[\"Text_2\"].apply(on_islem.remove_space)\n",
    "df.head()\n"
   ]
  },
  {
   "cell_type": "code",
   "execution_count": null,
   "id": "9106e3ec-5ff8-4ec8-8bf2-95a45dcd73b9",
   "metadata": {},
   "outputs": [],
   "source": []
  },
  {
   "cell_type": "code",
   "execution_count": null,
   "id": "d4831a31",
   "metadata": {},
   "outputs": [],
   "source": []
  }
 ],
 "metadata": {
  "kernelspec": {
   "display_name": "Python 3 (ipykernel)",
   "language": "python",
   "name": "python3"
  },
  "language_info": {
   "codemirror_mode": {
    "name": "ipython",
    "version": 3
   },
   "file_extension": ".py",
   "mimetype": "text/x-python",
   "name": "python",
   "nbconvert_exporter": "python",
   "pygments_lexer": "ipython3",
   "version": "3.11.3"
  }
 },
 "nbformat": 4,
 "nbformat_minor": 5
}
